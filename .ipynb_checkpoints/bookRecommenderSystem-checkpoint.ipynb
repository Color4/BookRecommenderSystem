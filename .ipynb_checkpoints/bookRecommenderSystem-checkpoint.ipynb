{
 "cells": [
  {
   "cell_type": "markdown",
   "metadata": {
    "collapsed": true
   },
   "source": [
    "## Next book you should read\n",
    "\n",
    "This code will given a favorite book/bookshelf read off goodreads API to find users with similar bookshelfs to form recommendations"
   ]
  },
  {
   "cell_type": "markdown",
   "metadata": {},
   "source": [
    "### Import all relavent libraries"
   ]
  },
  {
   "cell_type": "code",
   "execution_count": null,
   "metadata": {
    "collapsed": false
   },
   "outputs": [],
   "source": [
    "import pandas as pd\n",
    "import rauth, os, urllib2, requests, re, time\n",
    "from rauth.service import OAuth1Service, OAuth1Session\n",
    "import xml.etree.ElementTree as ET ## Parse XML stuff\n",
    "from selenium import webdriver ## to get around iframe stuff on goodreads website\n",
    "from selenium.common.exceptions import NoSuchElementException, StaleElementReferenceException\n",
    "from bs4 import BeautifulSoup\n",
    "from collections import defaultdict\n",
    "import numpy as np\n"
   ]
  },
  {
   "cell_type": "markdown",
   "metadata": {},
   "source": [
    "### Talk to goodreads API\n"
   ]
  },
  {
   "cell_type": "code",
   "execution_count": null,
   "metadata": {
    "collapsed": false
   },
   "outputs": [],
   "source": [
    "## Blindly copied stuff from goodreads website\n",
    "def accessGoodreads():\n",
    "    goodreadsSession = OAuth1Session(\n",
    "        consumer_key = os.environ['goodreads_key'],\n",
    "        consumer_secret = os.environ['goodreads_secret'],\n",
    "        access_token = os.environ['goodreads_access_token'],\n",
    "        access_token_secret = os.environ['goodreads_access_token_secret'])\n",
    "    return goodreadsSession\n",
    "    \n",
    "session = accessGoodreads()"
   ]
  },
  {
   "cell_type": "markdown",
   "metadata": {},
   "source": [
    "### Search for a book and get a response"
   ]
  },
  {
   "cell_type": "code",
   "execution_count": null,
   "metadata": {
    "collapsed": false
   },
   "outputs": [],
   "source": [
    "bookname = \"Harry Potter\"\n",
    "bookname = urllib2.quote(bookname)\n",
    "def getBookID(bookname):\n",
    "    ## Get web page for searching a book\n",
    "    url = \\\n",
    "        \"https://www.goodreads.com/search/index.xml?key=%s&q=%s\" %\\\n",
    "        (os.environ['goodreads_key'], bookname)\n",
    "    response = session.get(url)\n",
    "\n",
    "    ## Trust the first response to be the right response?\n",
    "    page = response.content\n",
    "    root = ET.fromstring(page.encode('UTF-8'))\n",
    "    books = root[1]\n",
    "\n",
    "    ## Extract book id\n",
    "    return root.find('search').find('results').find('work').find('best_book').find('id').text,root.find('search').find('results').find('work').find('best_book').find('title').text\n",
    "#bookID = getBookID(bookname)"
   ]
  },
  {
   "cell_type": "markdown",
   "metadata": {},
   "source": [
    "### Extract user info of all the people who read this book"
   ]
  },
  {
   "cell_type": "code",
   "execution_count": null,
   "metadata": {
    "collapsed": false
   },
   "outputs": [],
   "source": [
    "bookID, bookName = getBookID(bookname)"
   ]
  },
  {
   "cell_type": "code",
   "execution_count": null,
   "metadata": {
    "collapsed": false,
    "scrolled": true
   },
   "outputs": [],
   "source": [
    "browser = webdriver.Chrome(\"chromedriver\")\n",
    "def getUserInfo(df, bookID, bookName, browser, page):\n",
    "    url = \\\n",
    "        \"https://www.goodreads.com/book/show/%s?page=%s\" % (bookID, page)\n",
    "    browser.get(url)\n",
    "    time.sleep(2.0)\n",
    "    bookPage = browser.page_source\n",
    "    soup = BeautifulSoup(bookPage, \"html.parser\")\n",
    "    letters = soup.findAll('div', class_='left bodycol')\n",
    "    reviews = defaultdict(list)\n",
    "    for element in letters:\n",
    "        reviews['user_link'].append(element.find('a', class_='user').get('href'))\n",
    "        if element.find('span', class_ = 'staticStar p10'):\n",
    "            reviews['rating'].append(element.find('span', class_ = 'staticStar p10').get('title'))\n",
    "        else:\n",
    "            reviews['rating'].append('')\n",
    "        reviews['title'].append(bookName)\n",
    "    reviewsDf = pd.DataFrame.from_dict(reviews)\n",
    "    df = pd.concat([df, reviewsDf])\n",
    "   # print len(reviewsDf)\n",
    "    if len(reviewsDf)<31:\n",
    "        return df\n",
    "    else:\n",
    "        time.sleep(2.0)\n",
    "        return getUserInfo(df, bookID, bookName, browser, page+1)\n",
    "\n",
    "#df = pd.DataFrame(columns = {'title', 'user_link', 'rating'})\n",
    "#reviewsDf = getUserInfo(df, bookID, bookName, browser, 111)\n",
    "#reviewsDf.to_pickle('goodReadsDataset')\n"
   ]
  },
  {
   "cell_type": "markdown",
   "metadata": {},
   "source": [
    "### Read shelves off users!"
   ]
  },
  {
   "cell_type": "code",
   "execution_count": null,
   "metadata": {
    "collapsed": false,
    "scrolled": false
   },
   "outputs": [],
   "source": [
    "### Reduce the dataset to only those who really really like the book\n",
    "reviewsDf=pd.read_pickle('goodReadsDataset')\n",
    "reviewsDf = reviewsDf[(reviewsDf['rating'] == 'it was amazing') | (reviewsDf['rating'] == 'really liked it')]\n",
    "### Go to all the users shelves who read your favorite book and extract their favorite books\n",
    "reviewsDf['userID'] = reviewsDf['user_link'].str.split('/').str.get(3)\n",
    "userIDs = set(reviewsDf['userID'])\n",
    "userIDs = set(list(userIDs)[750:1000])\n",
    "\n",
    "## Depth first traversal \n",
    "def aggCommonRatings(df, userIDs, page, visiting=None):\n",
    "    if visiting is None:\n",
    "        visiting = set()\n",
    "        if len(userIDs) == 0:\n",
    "            return df\n",
    "        else:\n",
    "            userID = userIDs.pop()\n",
    "            visiting.add(userID)\n",
    "    \n",
    "    time.sleep(1.0)\n",
    "    url = \"https://www.goodreads.com/review/list/%s.xml?key=%s&v=2?shelf=read&per_page=200&page=%s&sort=rating\" %\\\n",
    "        (str(list(visiting)[0]), os.environ['goodreads_key'],page)\n",
    "    response = session.get(url)\n",
    "    time.sleep(1.0)\n",
    "    webpage = response.content\n",
    "    root = ET.fromstring(webpage)\n",
    "    if len(root) != 0 or root.find('error') is not None:\n",
    "        print \"no error\", url\n",
    "        reviews = defaultdict(list)\n",
    "        something = root.find('reviews')\n",
    "        \n",
    "        for i in range(0,len(something)):\n",
    "            reviews['Title'].append(something[i][1][4].text)\n",
    "            reviews['Author'].append(something[i][1][19][0][1].text)\n",
    "            reviews['Rating'].append(something[i][2].text)\n",
    "            reviews['userName'].append(list(visiting)[0])\n",
    "            reviews['avgRating'].append(something[i][1][16].text)\n",
    "            reviews['reviewCount'].append(something[i][1][17].text)\n",
    "        \n",
    "        reviewsDf = pd.DataFrame.from_dict(reviews)\n",
    "        df = pd.concat([df, reviewsDf])\n",
    "        #df.to_pickle('goodreadsUserRatings2')\n",
    "            \n",
    "        if (len(reviewsDf)<199) | (np.min(reviewsDf.Rating) == '0'):\n",
    "            if len(userIDs) == 0:\n",
    "                return df\n",
    "            else:\n",
    "                print len(df), str(list(visiting)[0])\n",
    "                return aggCommonRatings(df, userIDs, 1, visiting = None)\n",
    "        else:\n",
    "            time.sleep(1.0)\n",
    "            return aggCommonRatings(df, userIDs, page+1, visiting)\n",
    "    else:\n",
    "        print 'error', list(visiting)[0], url\n",
    "        return aggCommonRatings(df, userIDs, 1, visiting = None)\n",
    "\n",
    "\n",
    "\n",
    "initDf = pd.DataFrame(columns = ('Title', 'Rating', 'userName', 'Author', 'avgRating', 'reviewCount'))\n",
    "summaryDf = aggCommonRatings(initDf, userIDs, 1)\n",
    "summaryDf.to_pickle('goodreadsUserRatings7')"
   ]
  },
  {
   "cell_type": "code",
   "execution_count": null,
   "metadata": {
    "collapsed": false
   },
   "outputs": [],
   "source": [
    "len(initDf)\n",
    "\n",
    "\n"
   ]
  },
  {
   "cell_type": "code",
   "execution_count": null,
   "metadata": {
    "collapsed": false
   },
   "outputs": [],
   "source": [
    "a = root.find('reviews')\n",
    "print a[0][1][17].text\n"
   ]
  },
  {
   "cell_type": "code",
   "execution_count": null,
   "metadata": {
    "collapsed": false
   },
   "outputs": [],
   "source": [
    "summaryDf.head()"
   ]
  },
  {
   "cell_type": "code",
   "execution_count": null,
   "metadata": {
    "collapsed": false
   },
   "outputs": [],
   "source": [
    "\n",
    "\n",
    "userIDs = list(set(reviewsDf['userID']))\n",
    "url = \"https://www.goodreads.com/review/list/%s.xml?key=%s&v=2?shelf=read&per_page=50&page=%s\"%\\\n",
    "(str(userIDs[1]), os.environ['goodreads_key'],1)\n",
    "response = session.get(url)\n",
    "time.sleep(1.0)\n",
    "webpage = response.content\n",
    "if root.find('error') is None:\n",
    "    a = root.find('reviews')\n",
    "    i=0\n",
    "    something = defaultdict(list)\n",
    "    for node in a:\n",
    "        something['something'].append(a[i][1][4].text)\n",
    "        print a[i][1][4].text, len(node)\n",
    "        i=i+1\n",
    "    "
   ]
  },
  {
   "cell_type": "code",
   "execution_count": null,
   "metadata": {
    "collapsed": false
   },
   "outputs": [],
   "source": [
    "userIDs = list(set(reviewsDf['userID']))\n",
    "url = \"https://www.goodreads.com/review/list/%s.xml?key=%s&v=2?shelf=read&per_page=50&page=%s\" %\\\n",
    "(str(userIDs[1]), os.environ['goodreads_key'],1)"
   ]
  },
  {
   "cell_type": "code",
   "execution_count": null,
   "metadata": {
    "collapsed": false
   },
   "outputs": [],
   "source": [
    "reviewsDf=pd.read_pickle('goodReadsDataset')\n",
    "reviewsDf = reviewsDf[(reviewsDf['rating'] == 'it was amazing') | (reviewsDf['rating'] == 'really liked it')]\n",
    "### Go to all the users shelves who read your favorite book and extract their favorite books\n",
    "reviewsDf['userID'] = reviewsDf['user_link'].str.split('/').str.get(3)\n",
    "userIDs = set(reviewsDf['userID'])\n"
   ]
  },
  {
   "cell_type": "code",
   "execution_count": null,
   "metadata": {
    "collapsed": false
   },
   "outputs": [],
   "source": [
    "list(userIDs)[252]\n"
   ]
  },
  {
   "cell_type": "code",
   "execution_count": null,
   "metadata": {
    "collapsed": false
   },
   "outputs": [],
   "source": [
    "len(userIDs)"
   ]
  },
  {
   "cell_type": "code",
   "execution_count": null,
   "metadata": {
    "collapsed": true
   },
   "outputs": [],
   "source": [
    "a=[1,2]"
   ]
  },
  {
   "cell_type": "code",
   "execution_count": null,
   "metadata": {
    "collapsed": false
   },
   "outputs": [],
   "source": [
    "print a.pop(), len(a)"
   ]
  },
  {
   "cell_type": "code",
   "execution_count": null,
   "metadata": {
    "collapsed": false
   },
   "outputs": [],
   "source": [
    "reviewsDf = reviewsDf[(reviewsDf['rating'] == 'it was amazing')]"
   ]
  },
  {
   "cell_type": "code",
   "execution_count": null,
   "metadata": {
    "collapsed": false
   },
   "outputs": [],
   "source": [
    "len(reviewsDf)"
   ]
  },
  {
   "cell_type": "code",
   "execution_count": null,
   "metadata": {
    "collapsed": false
   },
   "outputs": [],
   "source": [
    "newDf = pd.read_pickle('goodreadsUserRatings2')"
   ]
  },
  {
   "cell_type": "code",
   "execution_count": null,
   "metadata": {
    "collapsed": false
   },
   "outputs": [],
   "source": [
    "len(set(newDf.userName))"
   ]
  },
  {
   "cell_type": "code",
   "execution_count": null,
   "metadata": {
    "collapsed": true
   },
   "outputs": [],
   "source": []
  }
 ],
 "metadata": {
  "kernelspec": {
   "display_name": "Python 2",
   "language": "python",
   "name": "python2"
  },
  "language_info": {
   "codemirror_mode": {
    "name": "ipython",
    "version": 2
   },
   "file_extension": ".py",
   "mimetype": "text/x-python",
   "name": "python",
   "nbconvert_exporter": "python",
   "pygments_lexer": "ipython2",
   "version": "2.7.11"
  }
 },
 "nbformat": 4,
 "nbformat_minor": 0
}
